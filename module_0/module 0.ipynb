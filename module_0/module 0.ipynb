{
 "cells": [
  {
   "cell_type": "code",
   "execution_count": null,
   "metadata": {},
   "outputs": [],
   "source": [
    "import numpy as np\n",
    "lower = 1\n",
    "upper = 1000000\n",
    "num = np.random.randint(lower, upper)    # загадали число\n",
    "print (f\"Загадано число от {lower} до {upper}\")\n",
    "\n",
    "def binary_search(number, lowerlimit, upperlimit):\n",
    "    \n",
    "    \"\"\"\n",
    "    Эта функция считает методом бинарного поиска:\n",
    "    Принимает на вход нижний и верхний пороги случайного числа и само загаданное число\n",
    "    \"\"\"\n",
    "    \n",
    "    current_position = 0\n",
    "    count = 0\n",
    "    while current_position != number:\n",
    "        interval = [lowerlimit, upperlimit]\n",
    "        current_position = sum(interval) // 2\n",
    "        if current_position > number:\n",
    "            upperlimit = current_position\n",
    "        else:\n",
    "            lowerlimit = current_position\n",
    "        count += 1\n",
    "    return current_position, count\n",
    "\n",
    "result,count = binary_search(number=num, lowerlimit=lower, upperlimit=upper)\n",
    "print(f\"Загаданное число = {result}, число попыток = {count}\")"
   ]
  }
 ],
 "metadata": {
  "kernelspec": {
   "display_name": "Python 3",
   "language": "python",
   "name": "python3"
  },
  "language_info": {
   "codemirror_mode": {
    "name": "ipython",
    "version": 3
   },
   "file_extension": ".py",
   "mimetype": "text/x-python",
   "name": "python",
   "nbconvert_exporter": "python",
   "pygments_lexer": "ipython3",
   "version": "3.7.4"
  }
 },
 "nbformat": 4,
 "nbformat_minor": 2
}
